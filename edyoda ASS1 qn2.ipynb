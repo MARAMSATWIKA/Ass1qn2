{
 "cells": [
  {
   "cell_type": "code",
   "execution_count": 2,
   "id": "5fd95dcb",
   "metadata": {},
   "outputs": [
    {
     "name": "stdout",
     "output_type": "stream",
     "text": [
      "enter the word: Edyoda\n",
      "adoydE"
     ]
    }
   ],
   "source": [
    "word=str(input(\"enter the word: \"))\n",
    "mirror_word=\"\"\n",
    "\n",
    "for i in range(len(word)-1,-1,-1):\n",
    "    print(mirror_word+word[i],end=\"\")"
   ]
  },
  {
   "cell_type": "code",
   "execution_count": null,
   "id": "4b562a40",
   "metadata": {},
   "outputs": [],
   "source": []
  }
 ],
 "metadata": {
  "kernelspec": {
   "display_name": "Python 3 (ipykernel)",
   "language": "python",
   "name": "python3"
  },
  "language_info": {
   "codemirror_mode": {
    "name": "ipython",
    "version": 3
   },
   "file_extension": ".py",
   "mimetype": "text/x-python",
   "name": "python",
   "nbconvert_exporter": "python",
   "pygments_lexer": "ipython3",
   "version": "3.9.7"
  }
 },
 "nbformat": 4,
 "nbformat_minor": 5
}
